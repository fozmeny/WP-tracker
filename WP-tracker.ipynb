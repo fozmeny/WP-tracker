{
 "cells": [
  {
   "cell_type": "code",
   "execution_count": 6,
   "id": "db595a4a-03b3-40a7-8017-e774aab511fa",
   "metadata": {},
   "outputs": [
    {
     "name": "stdout",
     "output_type": "stream",
     "text": [
      "Lütfen QR kodunu tarayarak WhatsApp Web'e giriş yapın.\n"
     ]
    },
    {
     "ename": "KeyboardInterrupt",
     "evalue": "",
     "output_type": "error",
     "traceback": [
      "\u001b[0;31m---------------------------------------------------------------------------\u001b[0m",
      "\u001b[0;31mKeyboardInterrupt\u001b[0m                         Traceback (most recent call last)",
      "Cell \u001b[0;32mIn[6], line 28\u001b[0m\n\u001b[1;32m     26\u001b[0m \u001b[38;5;66;03m# Give the user time to launch the scanner and scan the QR code\u001b[39;00m\n\u001b[1;32m     27\u001b[0m \u001b[38;5;28mprint\u001b[39m(\u001b[38;5;124m\"\u001b[39m\u001b[38;5;124mLütfen QR kodunu tarayarak WhatsApp Web\u001b[39m\u001b[38;5;124m'\u001b[39m\u001b[38;5;124me giriş yapın.\u001b[39m\u001b[38;5;124m\"\u001b[39m)\n\u001b[0;32m---> 28\u001b[0m time\u001b[38;5;241m.\u001b[39msleep(\u001b[38;5;241m30\u001b[39m)\n\u001b[1;32m     30\u001b[0m \u001b[38;5;28;01mdef\u001b[39;00m \u001b[38;5;21mcheck_online_status\u001b[39m():\n\u001b[1;32m     31\u001b[0m     \u001b[38;5;28;01mtry\u001b[39;00m:\n\u001b[1;32m     32\u001b[0m         \u001b[38;5;66;03m# Find the user in the chat list and click on him\u001b[39;00m\n",
      "\u001b[0;31mKeyboardInterrupt\u001b[0m: "
     ]
    }
   ],
   "source": [
    "from selenium import webdriver\n",
    "from selenium.webdriver.chrome.service import Service\n",
    "from selenium.webdriver.common.by import By\n",
    "import time\n",
    "import datetime\n",
    "\n",
    "# Specify the ChromeDriver path\n",
    "chromedriver_path = '/Users/daimon/Desktop/chromedriver-mac/chromedriver'\n",
    "\n",
    "# Create a service object\n",
    "service = Service(executable_path=chromedriver_path)\n",
    "\n",
    "# Adjust Chrome browser options\n",
    "options = webdriver.ChromeOptions()\n",
    "options.add_argument(\"--user-data-dir=chrome-data\")  # Store user data to stay logged into WhatsApp\n",
    "\n",
    "# Start WebDriver\n",
    "driver = webdriver.Chrome(service=service, options=options)\n",
    "\n",
    "# Go to WhatsApp Web\n",
    "driver.get('https://web.whatsapp.com')\n",
    "\n",
    "# Find phone number to track user\n",
    "contact_name = 'change here'\n",
    "\n",
    "# Give the user time to launch the scanner and scan the QR code\n",
    "print(\"Lütfen QR kodunu tarayarak WhatsApp Web'e giriş yapın.\")\n",
    "time.sleep(30)\n",
    "\n",
    "def check_online_status():\n",
    "    try:\n",
    "        # Find the user in the chat list and click on him\n",
    "        contact = driver.find_element(By.XPATH, f\"//span[@title='{contact_name}']\")\n",
    "        contact.click()\n",
    "        time.sleep(3)\n",
    "\n",
    "        # Check online status\n",
    "        status = driver.find_element(By.XPATH, \"//span[@title='online']\")\n",
    "        return True\n",
    "    except Exception as e:\n",
    "        return False\n",
    "\n",
    "try:\n",
    "    while True:\n",
    "        now = datetime.datetime.now()\n",
    "        if check_online_status():\n",
    "            print(f\"{contact_name} is online at {now}\")\n",
    "        else:\n",
    "            print(f\"{contact_name} is offline at {now}\")\n",
    "        time.sleep(5)  # 5 saniyede bir kontrol edin\n",
    "except KeyboardInterrupt:\n",
    "    print(\"The tracking was stopped.\")\n",
    "finally:\n",
    "    driver.quit()\n"
   ]
  }
 ],
 "metadata": {
  "kernelspec": {
   "display_name": "Python 3 (ipykernel)",
   "language": "python",
   "name": "python3"
  },
  "language_info": {
   "codemirror_mode": {
    "name": "ipython",
    "version": 3
   },
   "file_extension": ".py",
   "mimetype": "text/x-python",
   "name": "python",
   "nbconvert_exporter": "python",
   "pygments_lexer": "ipython3",
   "version": "3.12.2"
  }
 },
 "nbformat": 4,
 "nbformat_minor": 5
}
